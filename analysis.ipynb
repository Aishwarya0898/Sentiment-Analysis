{
 "cells": [
  {
   "cell_type": "code",
   "execution_count": null,
   "metadata": {},
   "outputs": [],
   "source": [
    "%pip install torch torchvision torchaudio --index-url https://download.pytorch.org/whl/cu121\n",
    "\n",
    "%pip install transformers requests beautifulsoup4 pandas numpy"
   ]
  },
  {
   "cell_type": "code",
   "execution_count": null,
   "metadata": {},
   "outputs": [],
   "source": [
    "from transformers import AutoTokenizer, AutoModelForSequenceClassification\n",
    "import torch\n",
    "import requests\n",
    "from bs4 import BeautifulSoup\n",
    "import re"
   ]
  },
  {
   "cell_type": "code",
   "execution_count": null,
   "metadata": {},
   "outputs": [],
   "source": [
    "tokenizer = AutoTokenizer.from_pretrained('nlptown/bert-base-multilingual-uncased-sentiment')\n",
    "model = AutoModelForSequenceClassification.from_pretrained('nlptown/bert-base-multilingual-uncased-sentiment')\n",
    "\n",
    "tokens = tokenizer.encode(\"This restaurant never disappoints. We decided to have lunch here today and let me tell you it was an absolute amazing treat. If you have not tried this restaurant, do yourself a favor and give it a try. Excellent, atmosphere, amazing food.\", return_tensors='pt')\n",
    "tokens[0]\n",
    "\n",
    "tokenizer.decode(tokens[0])\n",
    "\n",
    "result = model(tokens)\n",
    "result.logits\n",
    "\n",
    "int(torch.argmax(result.logits))+1"
   ]
  },
  {
   "cell_type": "code",
   "execution_count": null,
   "metadata": {},
   "outputs": [],
   "source": [
    "import numpy as np\n",
    "import pandas as pd"
   ]
  },
  {
   "cell_type": "code",
   "execution_count": null,
   "metadata": {},
   "outputs": [],
   "source": [
    "path='/content/DataSet_Merged.xlsx'\n",
    "dataset = pd.read_excel(path)\n",
    "\n",
    "dataset\n",
    "\n",
    "df = dataset[['REVIEW']]\n",
    "df\n",
    "\n",
    "df[\"REVIEW\"].iloc[0]\n",
    "\n",
    "def sentiment_score(review):\n",
    "    tokens = tokenizer.encode(review, return_tensors='pt')\n",
    "    result = model(tokens)\n",
    "    return int(torch.argmax(result.logits))+1\n",
    "\n",
    "sentiment_score(df['REVIEW'].iloc[1])\n",
    "\n",
    "df['sentiment'] = df['REVIEW'].apply(lambda x: sentiment_score(x[:512]))\n",
    "df\n"
   ]
  },
  {
   "cell_type": "code",
   "execution_count": null,
   "metadata": {},
   "outputs": [],
   "source": [
    "# Function to classify sentiments\n",
    "def classify_sentiment(score):\n",
    "    if score in [1, 2]:\n",
    "        return 'Negative'\n",
    "    elif score == 3:\n",
    "        return 'Neutral'\n",
    "    elif score in [4, 5]:\n",
    "        return 'Positive'\n",
    "    else:\n",
    "        return 'Undefined'  # If there are other scores which are not defined\n",
    "\n",
    "# Applying the function to create the 'Sentiment_Class' column\n",
    "df['Sentiment_Class'] = df['sentiment'].apply(classify_sentiment)\n",
    "\n",
    "# Saving the updated DataFrame to an Excel file\n",
    "df.to_excel('Final_Analysis.xlsx', index=False)"
   ]
  }
 ],
 "metadata": {
  "language_info": {
   "name": "python"
  }
 },
 "nbformat": 4,
 "nbformat_minor": 2
}
